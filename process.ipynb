{
 "cells": [
  {
   "cell_type": "markdown",
   "metadata": {},
   "source": [
    "# Wine Data Processing\n",
    "\n",
    "This notebook does some CSV manipulation on my CSV data from [Vivino](https://www.vivino.com)."
   ]
  },
  {
   "cell_type": "code",
   "execution_count": null,
   "metadata": {},
   "outputs": [],
   "source": [
    "import os\n",
    "import pandas as pd\n",
    "import qgrid"
   ]
  },
  {
   "cell_type": "code",
   "execution_count": null,
   "metadata": {},
   "outputs": [],
   "source": [
    "vivino = pd.read_csv('data/tmp/vivino.csv')\n",
    "\n",
    "vivino.rename(columns={\n",
    "    'Wine name': 'Name',\n",
    "    'Your rating': 'Rating',\n",
    "    'Regional wine style': 'Style',\n",
    "    'Your review': 'Notes',\n",
    "    'Wine type': 'Type',\n",
    "    'Link to wine': 'Link',\n",
    "    'Scan date': 'Date',\n",
    "}, inplace=True)\n",
    "\n",
    "vivino.loc[vivino.Style.isnull(), 'Style'] = ''\n",
    "vivino.loc[vivino.Rating == 'Not given', 'Rating'] = float('nan')\n",
    "vivino.loc[vivino.Notes.isnull(), 'Notes'] = ''\n",
    "vivino.Date = pd.to_datetime(vivino.Date)\n",
    "\n",
    "columns = [\n",
    "    'Winery',\n",
    "    'Name',\n",
    "    'Vintage',\n",
    "    'Region',\n",
    "    'Country',\n",
    "    'Style',\n",
    "    'Date',\n",
    "    'Rating',\n",
    "    'Notes',\n",
    "    'Type',\n",
    "    'Link',\n",
    "]\n",
    "\n",
    "vivino = pd.concat([\n",
    "    vivino[columns], \n",
    "    pd.DataFrame(columns=['Winery_Long', 'Winery_Lat'])\n",
    "], sort=False).sort_values(by='Date')"
   ]
  },
  {
   "cell_type": "raw",
   "metadata": {},
   "source": [
    "# Make sure to make this a code cell\n",
    "pending_wines = 6"
   ]
  },
  {
   "cell_type": "code",
   "execution_count": null,
   "metadata": {
    "scrolled": false
   },
   "outputs": [],
   "source": [
    "edit_my_wines = qgrid.show_grid(vivino.iloc[-pending_wines:])\n",
    "edit_my_wines"
   ]
  },
  {
   "cell_type": "code",
   "execution_count": null,
   "metadata": {},
   "outputs": [],
   "source": [
    "with open(os.path.expanduser('data/wines/data.csv'), 'a') as f:\n",
    "    edit_my_wines.get_changed_df().to_csv(f, index=False, header=False)"
   ]
  }
 ],
 "metadata": {
  "kernelspec": {
   "display_name": "kondo (Python 3.7.3)",
   "language": "python",
   "name": "kondo"
  },
  "language_info": {
   "codemirror_mode": {
    "name": "ipython",
    "version": 3
   },
   "file_extension": ".py",
   "mimetype": "text/x-python",
   "name": "python",
   "nbconvert_exporter": "python",
   "pygments_lexer": "ipython3",
   "version": "3.7.3"
  }
 },
 "nbformat": 4,
 "nbformat_minor": 2
}
